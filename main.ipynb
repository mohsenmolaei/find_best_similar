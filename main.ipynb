{
  "cells": [
    {
      "cell_type": "markdown",
      "metadata": {
        "id": "view-in-github",
        "colab_type": "text"
      },
      "source": [
        "<a href=\"https://colab.research.google.com/github/mohsenmolaei/find_best_similar/blob/main/main.ipynb\" target=\"_parent\"><img src=\"https://colab.research.google.com/assets/colab-badge.svg\" alt=\"Open In Colab\"/></a>"
      ]
    },
    {
      "cell_type": "code",
      "execution_count": null,
      "metadata": {
        "id": "ZvAS3tQvMaER"
      },
      "outputs": [],
      "source": [
        "!pip install tehran_stocks"
      ]
    },
    {
      "cell_type": "code",
      "execution_count": null,
      "metadata": {
        "id": "pUJle12YOwfl"
      },
      "outputs": [],
      "source": [
        "!pip install darts\n",
        "!pip install pytorch_forecasting\n"
      ]
    },
    {
      "cell_type": "code",
      "execution_count": null,
      "metadata": {
        "id": "vIxFyMqXLxhF"
      },
      "outputs": [],
      "source": [
        "from tehran_stocks_class import PinBall_Loss, get_Namad, train_model"
      ]
    },
    {
      "cell_type": "markdown",
      "metadata": {
        "id": "hQ1Mco01LxhK"
      },
      "source": [
        "### reading CSV dataset"
      ]
    },
    {
      "cell_type": "code",
      "execution_count": null,
      "metadata": {
        "colab": {
          "background_save": true
        },
        "id": "U0kOID2ELxhM"
      },
      "outputs": [],
      "source": [
        "import pandas as pd\n",
        "namad_getter = get_Namad()\n",
        "namad_getter.readNamads_fromCSVfiles(dir = \"dataset\")"
      ]
    },
    {
      "cell_type": "markdown",
      "metadata": {
        "id": "BvtoKb_ULxhN"
      },
      "source": [
        "### use below cell if you want to train various models on All namads"
      ]
    },
    {
      "cell_type": "code",
      "execution_count": null,
      "metadata": {
        "id": "o4CXlBqGLxhO"
      },
      "outputs": [],
      "source": [
        "model1 = train_model(model_type = \"LSTM\", layer_size = 20,\n",
        "                     numOf_hiddenLayers = 2, loss_obj = PinBall_Loss(0.2),\n",
        "                     input_BatchSize = 60, train_len = 59)\n",
        "\n",
        "model2 = train_model(model_type = \"LSTM\", layer_size = 20,\n",
        "                     numOf_hiddenLayers = 2, loss_obj = PinBall_Loss(0.5),\n",
        "                     input_BatchSize = 60, train_len = 59)\n",
        "\n",
        "model3 = train_model(model_type = \"LSTM\", layer_size = 20,\n",
        "                     numOf_hiddenLayers = 2, loss_obj = PinBall_Loss(0.8),\n",
        "                     input_BatchSize = 60, train_len = 59)\n",
        "\n",
        "fitted_models, ts_list_train, ts_list_test = train_model.fit_nModel_onAll_Namads(\n",
        "                                        models_list = [model1, model2, model3],\n",
        "                                        all_namads_df_list = namad_getter.Namads_data[\"namads_df\"],\n",
        "                                        train_test_ratio = 0.2, epochs=3)\n",
        "\n",
        "fitted_model1, fitted_model2, fitted_model3 = fitted_models\n",
        "\n"
      ]
    },
    {
      "cell_type": "code",
      "source": [],
      "metadata": {
        "id": "UP9rWpwWkTXC"
      },
      "execution_count": null,
      "outputs": []
    },
    {
      "cell_type": "code",
      "execution_count": null,
      "metadata": {
        "id": "wPMHt-BGYJhg"
      },
      "outputs": [],
      "source": [
        "# from darts.models import LSTMModel\n",
        "fitted_model1.save(\"my_model\")\n",
        "fitted_model2.save(\"my_mode2\")\n",
        "fitted_model3.save(\"my_mode3\")\n"
      ]
    },
    {
      "cell_type": "code",
      "execution_count": null,
      "metadata": {
        "id": "nr1B-Y_0dm5p"
      },
      "outputs": [],
      "source": [
        "from darts import TimeSeries\n",
        "import numpy as np\n",
        "\n",
        "# Create a time series with 59 sequences\n",
        "values = np.random.rand(300)  # Replace this with your actual data\n",
        "series = TimeSeries.from_values(values)\n"
      ]
    },
    {
      "cell_type": "code",
      "execution_count": null,
      "metadata": {
        "colab": {
          "base_uri": "https://localhost:8080/",
          "height": 375
        },
        "id": "VXI-mw_2ZKpv",
        "outputId": "88459d53-d2cf-4fde-99f0-998dbae32431"
      },
      "outputs": [
        {
          "name": "stderr",
          "output_type": "stream",
          "text": [
            "ERROR:darts.models.forecasting.torch_forecasting_model:ValueError: Input `series` must be provided. This is the result either from fitting on multiple series, or from not having fit the model yet.\n"
          ]
        },
        {
          "ename": "ValueError",
          "evalue": "Input `series` must be provided. This is the result either from fitting on multiple series, or from not having fit the model yet.",
          "output_type": "error",
          "traceback": [
            "\u001b[0;31m---------------------------------------------------------------------------\u001b[0m",
            "\u001b[0;31mValueError\u001b[0m                                Traceback (most recent call last)",
            "\u001b[0;32m<ipython-input-31-f69221540a5f>\u001b[0m in \u001b[0;36m<cell line: 1>\u001b[0;34m()\u001b[0m\n\u001b[0;32m----> 1\u001b[0;31m \u001b[0mpredictions\u001b[0m \u001b[0;34m=\u001b[0m \u001b[0mfitted_model1\u001b[0m\u001b[0;34m.\u001b[0m\u001b[0mpredict\u001b[0m\u001b[0;34m(\u001b[0m\u001b[0mvalues\u001b[0m\u001b[0;34m)\u001b[0m\u001b[0;34m\u001b[0m\u001b[0;34m\u001b[0m\u001b[0m\n\u001b[0m",
            "\u001b[0;32m/usr/local/lib/python3.10/dist-packages/darts/utils/torch.py\u001b[0m in \u001b[0;36mdecorator\u001b[0;34m(self, *args, **kwargs)\u001b[0m\n\u001b[1;32m    110\u001b[0m         \u001b[0;32mwith\u001b[0m \u001b[0mfork_rng\u001b[0m\u001b[0;34m(\u001b[0m\u001b[0;34m)\u001b[0m\u001b[0;34m:\u001b[0m\u001b[0;34m\u001b[0m\u001b[0;34m\u001b[0m\u001b[0m\n\u001b[1;32m    111\u001b[0m             \u001b[0mmanual_seed\u001b[0m\u001b[0;34m(\u001b[0m\u001b[0mself\u001b[0m\u001b[0;34m.\u001b[0m\u001b[0m_random_instance\u001b[0m\u001b[0;34m.\u001b[0m\u001b[0mrandint\u001b[0m\u001b[0;34m(\u001b[0m\u001b[0;36m0\u001b[0m\u001b[0;34m,\u001b[0m \u001b[0mhigh\u001b[0m\u001b[0;34m=\u001b[0m\u001b[0mMAX_TORCH_SEED_VALUE\u001b[0m\u001b[0;34m)\u001b[0m\u001b[0;34m)\u001b[0m\u001b[0;34m\u001b[0m\u001b[0;34m\u001b[0m\u001b[0m\n\u001b[0;32m--> 112\u001b[0;31m             \u001b[0;32mreturn\u001b[0m \u001b[0mdecorated\u001b[0m\u001b[0;34m(\u001b[0m\u001b[0mself\u001b[0m\u001b[0;34m,\u001b[0m \u001b[0;34m*\u001b[0m\u001b[0margs\u001b[0m\u001b[0;34m,\u001b[0m \u001b[0;34m**\u001b[0m\u001b[0mkwargs\u001b[0m\u001b[0;34m)\u001b[0m\u001b[0;34m\u001b[0m\u001b[0;34m\u001b[0m\u001b[0m\n\u001b[0m\u001b[1;32m    113\u001b[0m \u001b[0;34m\u001b[0m\u001b[0m\n\u001b[1;32m    114\u001b[0m     \u001b[0;32mreturn\u001b[0m \u001b[0mdecorator\u001b[0m\u001b[0;34m\u001b[0m\u001b[0;34m\u001b[0m\u001b[0m\n",
            "\u001b[0;32m/usr/local/lib/python3.10/dist-packages/darts/models/forecasting/torch_forecasting_model.py\u001b[0m in \u001b[0;36mpredict\u001b[0;34m(self, n, series, past_covariates, future_covariates, trainer, batch_size, verbose, n_jobs, roll_size, num_samples, num_loader_workers, mc_dropout, predict_likelihood_parameters, show_warnings)\u001b[0m\n\u001b[1;32m   1315\u001b[0m         \u001b[0;32mif\u001b[0m \u001b[0mseries\u001b[0m \u001b[0;32mis\u001b[0m \u001b[0;32mNone\u001b[0m\u001b[0;34m:\u001b[0m\u001b[0;34m\u001b[0m\u001b[0;34m\u001b[0m\u001b[0m\n\u001b[1;32m   1316\u001b[0m             \u001b[0;32mif\u001b[0m \u001b[0mself\u001b[0m\u001b[0;34m.\u001b[0m\u001b[0mtraining_series\u001b[0m \u001b[0;32mis\u001b[0m \u001b[0;32mNone\u001b[0m\u001b[0;34m:\u001b[0m\u001b[0;34m\u001b[0m\u001b[0;34m\u001b[0m\u001b[0m\n\u001b[0;32m-> 1317\u001b[0;31m                 raise_log(\n\u001b[0m\u001b[1;32m   1318\u001b[0m                     ValueError(\n\u001b[1;32m   1319\u001b[0m                         \u001b[0;34m\"Input `series` must be provided. This is the result either from fitting on multiple series, \"\u001b[0m\u001b[0;34m\u001b[0m\u001b[0;34m\u001b[0m\u001b[0m\n",
            "\u001b[0;32m/usr/local/lib/python3.10/dist-packages/darts/logging.py\u001b[0m in \u001b[0;36mraise_log\u001b[0;34m(exception, logger)\u001b[0m\n\u001b[1;32m    127\u001b[0m     \u001b[0mlogger\u001b[0m\u001b[0;34m.\u001b[0m\u001b[0merror\u001b[0m\u001b[0;34m(\u001b[0m\u001b[0mexception_type\u001b[0m \u001b[0;34m+\u001b[0m \u001b[0;34m\": \"\u001b[0m \u001b[0;34m+\u001b[0m \u001b[0mmessage\u001b[0m\u001b[0;34m)\u001b[0m\u001b[0;34m\u001b[0m\u001b[0;34m\u001b[0m\u001b[0m\n\u001b[1;32m    128\u001b[0m \u001b[0;34m\u001b[0m\u001b[0m\n\u001b[0;32m--> 129\u001b[0;31m     \u001b[0;32mraise\u001b[0m \u001b[0mexception\u001b[0m\u001b[0;34m\u001b[0m\u001b[0;34m\u001b[0m\u001b[0m\n\u001b[0m\u001b[1;32m    130\u001b[0m \u001b[0;34m\u001b[0m\u001b[0m\n\u001b[1;32m    131\u001b[0m \u001b[0;34m\u001b[0m\u001b[0m\n",
            "\u001b[0;31mValueError\u001b[0m: Input `series` must be provided. This is the result either from fitting on multiple series, or from not having fit the model yet."
          ]
        }
      ],
      "source": [
        "\n",
        "\n",
        "loaded_model = fitted_model1.load(\"my_model\")\n",
        "\n",
        "# Make predictions on the test data\n",
        "predictions = fitted_model1.predict(values)\n",
        "\n",
        "\n"
      ]
    },
    {
      "cell_type": "markdown",
      "metadata": {
        "id": "fWZoAva7LxhP"
      },
      "source": [
        "### getting results"
      ]
    },
    {
      "cell_type": "code",
      "execution_count": null,
      "metadata": {
        "id": "RAEj2LB9LxhP"
      },
      "outputs": [],
      "source": [
        "y_hats = model1.predict_plot_namad(targetNamadName = \"پارسیان\",\n",
        "                                   namadNames_list = namad_getter.Namads_data[\"names\"],\n",
        "                                   )"
      ]
    }
  ],
  "metadata": {
    "accelerator": "GPU",
    "colab": {
      "provenance": [],
      "include_colab_link": true
    },
    "kernelspec": {
      "display_name": "Python 3",
      "name": "python3"
    },
    "language_info": {
      "codemirror_mode": {
        "name": "ipython",
        "version": 3
      },
      "file_extension": ".py",
      "mimetype": "text/x-python",
      "name": "python",
      "nbconvert_exporter": "python",
      "pygments_lexer": "ipython3",
      "version": "3.8.5"
    }
  },
  "nbformat": 4,
  "nbformat_minor": 0
}